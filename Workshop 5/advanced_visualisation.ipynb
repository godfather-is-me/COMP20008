{
 "cells": [
  {
   "cell_type": "markdown",
   "metadata": {},
   "source": [
    "### Parallel co-ordinates\n",
    "\n",
    "Parallel co-ordinates is another method for data visualisation.  Each data instance is represented by a line and each feature by a vertical bar.   Similar objects can be identified by the similarity of their lines.   Correlations between (adjacent) features can also be identified.\n",
    "\n",
    "The following dataset \"Auto MPG\" [(this file)](data/mpg.csv) is a classic dataset providing detail about different models of cars in the 1970s and 1980s.  It uses features such as number of cylinders, horsepower, weight, ..., miles per gallon\n",
    "\n",
    "Explain the logic of the code, normalising and not colouring"
   ]
  },
  {
   "cell_type": "code",
   "execution_count": 1,
   "metadata": {},
   "outputs": [
    {
     "name": "stderr",
     "output_type": "stream",
     "text": [
      "No handles with labels found to put in legend.\n"
     ]
    },
    {
     "data": {
      "text/plain": [
       "<Figure size 640x480 with 1 Axes>"
      ]
     },
     "metadata": {},
     "output_type": "display_data"
    }
   ],
   "source": [
    "import pandas as pd\n",
    "import matplotlib.pyplot as plt\n",
    "from pandas.plotting import parallel_coordinates\n",
    "\n",
    "data=pd.read_csv('data/mpg.csv',encoding = 'ISO-8859-1')\n",
    "\n",
    "\n",
    "##normalise data\n",
    "data['mpg'] = (data['mpg']-data['mpg'].min())/(data['mpg'].max()-data['mpg'].min())\n",
    "data['weight'] = (data['weight']-data['weight'].min())/(data['weight'].max()-data['weight'].min())\n",
    "data['cylinders'] = (data['cylinders']-data['cylinders'].min())/(data['cylinders'].max()-data['cylinders'].min())\n",
    "data['horsepower'] = (data['horsepower']-data['horsepower'].min())/(data['horsepower'].max()-data['horsepower'].min())\n",
    "data['model_year'] = (data['model_year']-data['model_year'].min())/(data['model_year'].max()-data['model_year'].min())\n",
    "\n",
    "###Set 'name' to be empty since it is a string.   'name' is  the class feature used to color the objects, but for this\n",
    "## case we just want all objects to be the same colour, hence we make it empty.  More generally, one can use a categorical\n",
    "##feature to determine the line colors.  \n",
    "\n",
    "data['name']=''\n",
    "\n",
    "###plot in parallel co-ordinates\n",
    "#a document showing the parallel-coordinates API is at\n",
    "#https://groups.google.com/forum/#!topic/glue-viz/5-ljzYj4Qnc\n",
    "\n",
    "parallel_coordinates(data[['mpg','cylinders','horsepower','weight','model_year','name']],'name')\n",
    "plt.show()\n"
   ]
  },
  {
   "cell_type": "markdown",
   "metadata": {},
   "source": [
    "### Question 1\n",
    "\n",
    "Consider this parallel co-ordinates plot above.  What insights can obtain from this plot?    To make it easier to visualise, you may like to display fewer car_models (objects) using pandas.DataFrame.sample(...)\n"
   ]
  },
  {
   "cell_type": "markdown",
   "metadata": {},
   "source": [
    "### Question 1 answer\n"
   ]
  },
  {
   "cell_type": "markdown",
   "metadata": {},
   "source": [
    "### Question 2\n",
    "Select car models with years in the range 1980-1982 and make them green in the parallel co-ordinates plot.  Colour all others car models red.  This technique is called \"brushing\", since it is used to make a particular subset of the objects stand out.   What do you notice?"
   ]
  },
  {
   "cell_type": "code",
   "execution_count": 1,
   "metadata": {},
   "outputs": [],
   "source": [
    "###Question 2 answer\n",
    "\n"
   ]
  },
  {
   "cell_type": "markdown",
   "metadata": {},
   "source": [
    "### Question 3\n",
    "Produce a satter plot matrix from The following dataset [\"Auto MPG\"](data/mpg.csv) using **seaborn**. What patterns do you notice?"
   ]
  },
  {
   "cell_type": "code",
   "execution_count": null,
   "metadata": {},
   "outputs": [],
   "source": [
    "###Question 3 answer\n",
    "import seaborn as sns\n"
   ]
  },
  {
   "cell_type": "code",
   "execution_count": null,
   "metadata": {},
   "outputs": [],
   "source": [
    "###Question 3 answer: patterns:\n"
   ]
  }
 ],
 "metadata": {
  "kernelspec": {
   "display_name": "Python 3",
   "language": "python",
   "name": "python3"
  },
  "language_info": {
   "codemirror_mode": {
    "name": "ipython",
    "version": 3
   },
   "file_extension": ".py",
   "mimetype": "text/x-python",
   "name": "python",
   "nbconvert_exporter": "python",
   "pygments_lexer": "ipython3",
   "version": "3.7.3"
  }
 },
 "nbformat": 4,
 "nbformat_minor": 1
}
