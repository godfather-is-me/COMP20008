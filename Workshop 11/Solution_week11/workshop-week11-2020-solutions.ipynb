{
 "cells": [
  {
   "cell_type": "markdown",
   "metadata": {},
   "source": [
    "# COMP20008 2020S1 workshop week 11\n"
   ]
  },
  {
   "cell_type": "markdown",
   "metadata": {},
   "source": [
    "## Chi Squared Feature Selection\n",
    "The following code implements the example in Slide 19 of the Experimental design lecture"
   ]
  },
  {
   "cell_type": "code",
   "execution_count": 61,
   "metadata": {},
   "outputs": [
    {
     "name": "stdout",
     "output_type": "stream",
     "text": [
      "Chi2 value:  4.0\n",
      "Null hypothesis rejected, p value:  0.04550026389635857\n"
     ]
    }
   ],
   "source": [
    "import scipy.stats as stats\n",
    "from scipy.stats import chi2_contingency\n",
    "\n",
    "data = pd.DataFrame(np.array([[1,1,1],[1,0,1],[0,1,0],[0,0,0]]), columns=['a1','a2','c'])\n",
    "features=data[['a1','a2']]\n",
    "class_label = data['c']\n",
    "cont_table = pd.crosstab(class_label,features['a1'])\n",
    "chi2_val, p, dof, expected = stats.chi2_contingency(cont_table.values, correction=False)\n",
    "print('Chi2 value: ',chi2_val)\n",
    "if(p<0.05) : \n",
    "    print('Null hypothesis rejected, p value: ', p)\n",
    "else :\n",
    "    print('Null hypothesis accepted, p value: ', p)\n",
    "\n"
   ]
  },
  {
   "cell_type": "markdown",
   "metadata": {},
   "source": [
    "### Question 2) \n",
    "\n",
    "Adapt the example above to calculate the Chi2 values for each feature in Question 1.  Ensure that the results agree with your answer to Question 1.\n"
   ]
  },
  {
   "cell_type": "code",
   "execution_count": 60,
   "metadata": {},
   "outputs": [
    {
     "name": "stdout",
     "output_type": "stream",
     "text": [
      "Chi2 value for feature  A :  4.444444444444445\n",
      "Null hypothesis rejected for feature  A p value:  0.03501498101966245\n",
      "Chi2 value for feature  B :  3.4027777777777777\n",
      "Null hypothesis accepted for feature  B p value:  0.0650867264927665\n"
     ]
    }
   ],
   "source": [
    "import scipy.stats as stats\n",
    "from scipy.stats import chi2_contingency\n",
    "\n",
    "data = pd.DataFrame(np.array([[1,0,1],[1,1,1],[1,1,1],[1,0,0],[1,1,1],[0,0,0],[0,0,0],[0,0,0],[1,1,0],[0,0,0]]), columns=['A','B','Class'])\n",
    "features=data[['A','B']]\n",
    "class_label = data['Class']\n",
    "\n",
    "for feature in ['A','B'] :\n",
    "    cont_table = pd.crosstab(class_label,features[feature])\n",
    "    chi2_val, p, dof, expected = stats.chi2_contingency(cont_table.values, correction=False)\n",
    "    print('Chi2 value for feature', feature,': ',chi2_val)\n",
    "    if(p<0.05) : \n",
    "        print('Null hypothesis rejected for feature', feature, 'p value:', p)\n",
    "    else :\n",
    "        print('Null hypothesis accepted for feature', feature, 'p value:', p)\n",
    "\n"
   ]
  },
  {
   "cell_type": "code",
   "execution_count": null,
   "metadata": {},
   "outputs": [],
   "source": []
  }
 ],
 "metadata": {
  "kernelspec": {
   "display_name": "Python 3",
   "language": "python",
   "name": "python3"
  },
  "language_info": {
   "codemirror_mode": {
    "name": "ipython",
    "version": 3
   },
   "file_extension": ".py",
   "mimetype": "text/x-python",
   "name": "python",
   "nbconvert_exporter": "python",
   "pygments_lexer": "ipython3",
   "version": "3.7.3"
  }
 },
 "nbformat": 4,
 "nbformat_minor": 4
}
